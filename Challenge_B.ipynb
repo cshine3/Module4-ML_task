{
  "nbformat": 4,
  "nbformat_minor": 0,
  "metadata": {
    "colab": {
      "name": "Latest Version.ipynb",
      "provenance": [],
      "collapsed_sections": [],
      "authorship_tag": "ABX9TyP8IPBNPsdOceV+UCywt6w7",
      "include_colab_link": true
    },
    "kernelspec": {
      "name": "python3",
      "display_name": "Python 3"
    }
  },
  "cells": [
    {
      "cell_type": "markdown",
      "metadata": {
        "id": "view-in-github",
        "colab_type": "text"
      },
      "source": [
        "<a href=\"https://colab.research.google.com/github/cshine3/Module4-ML_task/blob/master/Challenge_B.ipynb\" target=\"_parent\"><img src=\"https://colab.research.google.com/assets/colab-badge.svg\" alt=\"Open In Colab\"/></a>"
      ]
    },
    {
      "cell_type": "markdown",
      "metadata": {
        "id": "UtnaoFju7Dpc",
        "colab_type": "text"
      },
      "source": [
        "Dependencies"
      ]
    },
    {
      "cell_type": "code",
      "metadata": {
        "id": "uFrY9Hlg60VE",
        "colab_type": "code",
        "colab": {}
      },
      "source": [
        "# Fixed dependencies - do not remove or change.\n",
        "import pytest\n",
        "import pandas as pd\n",
        "import numpy as np\n",
        "\n",
        "# My dependencies\n",
        "import io"
      ],
      "execution_count": null,
      "outputs": []
    },
    {
      "cell_type": "markdown",
      "metadata": {
        "id": "L2MNFDIU61Qv",
        "colab_type": "text"
      },
      "source": [
        "Import data"
      ]
    },
    {
      "cell_type": "code",
      "metadata": {
        "id": "yavRYclBU1tD",
        "colab_type": "code",
        "colab": {
          "resources": {
            "http://localhost:8080/nbextensions/google.colab/files.js": {
              "data": "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",
              "ok": true,
              "headers": [
                [
                  "content-type",
                  "application/javascript"
                ]
              ],
              "status": 200,
              "status_text": ""
            }
          },
          "base_uri": "https://localhost:8080/",
          "height": 73
        },
        "outputId": "7a1c752f-bc75-4426-945a-682bda5e0167"
      },
      "source": [
        "# run and select the data from whatever location it is stored\n",
        "from google.colab import files\n",
        "uploaded = files.upload()"
      ],
      "execution_count": null,
      "outputs": [
        {
          "output_type": "display_data",
          "data": {
            "text/html": [
              "\n",
              "     <input type=\"file\" id=\"files-7f92fd57-87c6-4c2d-a234-3e7dd6a968d1\" name=\"files[]\" multiple disabled\n",
              "        style=\"border:none\" />\n",
              "     <output id=\"result-7f92fd57-87c6-4c2d-a234-3e7dd6a968d1\">\n",
              "      Upload widget is only available when the cell has been executed in the\n",
              "      current browser session. Please rerun this cell to enable.\n",
              "      </output>\n",
              "      <script src=\"/nbextensions/google.colab/files.js\"></script> "
            ],
            "text/plain": [
              "<IPython.core.display.HTML object>"
            ]
          },
          "metadata": {
            "tags": []
          }
        },
        {
          "output_type": "stream",
          "text": [
            "Saving breast_cancer_data.csv to breast_cancer_data.csv\n"
          ],
          "name": "stdout"
        }
      ]
    },
    {
      "cell_type": "code",
      "metadata": {
        "id": "JMuOmjHKZHDC",
        "colab_type": "code",
        "colab": {}
      },
      "source": [
        "# change the name to whatever it was on your PC\n",
        "dataset = io.BytesIO(uploaded['breast_cancer_data.csv'])"
      ],
      "execution_count": null,
      "outputs": []
    },
    {
      "cell_type": "code",
      "metadata": {
        "id": "Hj8OA4hq64Wx",
        "colab_type": "code",
        "colab": {
          "base_uri": "https://localhost:8080/",
          "height": 35
        },
        "outputId": "e6681508-0105-4604-df7f-0c96ef772505"
      },
      "source": [
        "# here I am naming it as 'dataset'\n",
        "dataset = pd.read_csv('breast_cancer_data.csv')\n",
        "len(dataset)\n",
        "# there are 286 subjects (patients) in this dataset"
      ],
      "execution_count": null,
      "outputs": [
        {
          "output_type": "execute_result",
          "data": {
            "text/plain": [
              "286"
            ]
          },
          "metadata": {
            "tags": []
          },
          "execution_count": 4
        }
      ]
    },
    {
      "cell_type": "markdown",
      "metadata": {
        "id": "oapTJ4vTav7J",
        "colab_type": "text"
      },
      "source": [
        "Data checks"
      ]
    },
    {
      "cell_type": "code",
      "metadata": {
        "id": "YvSYcwFAZz4Q",
        "colab_type": "code",
        "colab": {
          "base_uri": "https://localhost:8080/",
          "height": 208
        },
        "outputId": "2c54375e-863e-40e0-e315-c68db8d42ceb"
      },
      "source": [
        "# check data type of each column\n",
        "dataset.dtypes\n",
        "# all variables which are objects will have to be reformatted into integers in later steps"
      ],
      "execution_count": null,
      "outputs": [
        {
          "output_type": "execute_result",
          "data": {
            "text/plain": [
              "age            object\n",
              "menopause      object\n",
              "tumor-size     object\n",
              "inv-nodes      object\n",
              "node-caps      object\n",
              "deg-malig       int64\n",
              "breast         object\n",
              "breast-quad    object\n",
              "irradiat       object\n",
              "Class          object\n",
              "dtype: object"
            ]
          },
          "metadata": {
            "tags": []
          },
          "execution_count": 5
        }
      ]
    },
    {
      "cell_type": "code",
      "metadata": {
        "id": "Led8rpePeFwL",
        "colab_type": "code",
        "colab": {
          "base_uri": "https://localhost:8080/",
          "height": 35
        },
        "outputId": "f7de2115-fa76-43d8-a53d-f0902ef20834"
      },
      "source": [
        "# check dataset for null values\n",
        "dataset.isnull().values.any()\n",
        "# there are no blank values "
      ],
      "execution_count": null,
      "outputs": [
        {
          "output_type": "execute_result",
          "data": {
            "text/plain": [
              "False"
            ]
          },
          "metadata": {
            "tags": []
          },
          "execution_count": 6
        }
      ]
    },
    {
      "cell_type": "code",
      "metadata": {
        "id": "h4mfDNnvbHe-",
        "colab_type": "code",
        "colab": {
          "base_uri": "https://localhost:8080/",
          "height": 156
        },
        "outputId": "2699b705-c621-46d0-f3c6-425fdbc9cda6"
      },
      "source": [
        "# check column for errors in data\n",
        "age_check = dataset.groupby(\"age\")[\"Class\"].count()\n",
        "age_check.head(20)\n",
        "# there are no errors"
      ],
      "execution_count": null,
      "outputs": [
        {
          "output_type": "execute_result",
          "data": {
            "text/plain": [
              "age\n",
              "20-29     1\n",
              "30-39    36\n",
              "40-49    90\n",
              "50-59    96\n",
              "60-69    57\n",
              "70-79     6\n",
              "Name: Class, dtype: int64"
            ]
          },
          "metadata": {
            "tags": []
          },
          "execution_count": 7
        }
      ]
    },
    {
      "cell_type": "code",
      "metadata": {
        "id": "-kj0LZuwipIC",
        "colab_type": "code",
        "colab": {
          "base_uri": "https://localhost:8080/",
          "height": 104
        },
        "outputId": "5e6e006f-257e-40b2-be3a-52d3f6fc6a8d"
      },
      "source": [
        "# check column for errors in data\n",
        "menopause_check = dataset.groupby(\"menopause\")[\"Class\"].count()\n",
        "menopause_check.head(20)\n",
        "# there are no errors"
      ],
      "execution_count": null,
      "outputs": [
        {
          "output_type": "execute_result",
          "data": {
            "text/plain": [
              "menopause\n",
              "ge40       129\n",
              "lt40         7\n",
              "premeno    150\n",
              "Name: Class, dtype: int64"
            ]
          },
          "metadata": {
            "tags": []
          },
          "execution_count": 8
        }
      ]
    },
    {
      "cell_type": "code",
      "metadata": {
        "id": "cnhI_fMvirRC",
        "colab_type": "code",
        "colab": {
          "base_uri": "https://localhost:8080/",
          "height": 243
        },
        "outputId": "e625ee31-a337-4a31-98f4-a4bc7f7e8db5"
      },
      "source": [
        "# check column for errors in data\n",
        "tumor_size_check = dataset.groupby(\"tumor-size\")[\"Class\"].count()\n",
        "tumor_size_check.head(20)\n",
        "# 32 lines of data have been incorrectly formatted as '05-Sep' (5-9) or 'Oct-14' (10-14)"
      ],
      "execution_count": null,
      "outputs": [
        {
          "output_type": "execute_result",
          "data": {
            "text/plain": [
              "tumor-size\n",
              "0-4        8\n",
              "05-Sep     4\n",
              "15-19     30\n",
              "20-24     50\n",
              "25-29     54\n",
              "30-34     60\n",
              "35-39     19\n",
              "40-44     22\n",
              "45-49      3\n",
              "50-54      8\n",
              "Oct-14    28\n",
              "Name: Class, dtype: int64"
            ]
          },
          "metadata": {
            "tags": []
          },
          "execution_count": 9
        }
      ]
    },
    {
      "cell_type": "code",
      "metadata": {
        "id": "vdJFZ0RSiwrd",
        "colab_type": "code",
        "colab": {
          "base_uri": "https://localhost:8080/",
          "height": 173
        },
        "outputId": "d1548efa-1d97-4676-a853-f4ca3beb0e2a"
      },
      "source": [
        "# check column for errors in data\n",
        "inv_nodes_check = dataset.groupby(\"inv-nodes\")[\"Class\"].count()\n",
        "inv_nodes_check.head(20)\n",
        "# 66 lines of data have been incorrectly formatted as '03-May' (3-5) or '06-Aug (6-8) or '09-Nov' (9-11) or 'Dec-14' (12-14)"
      ],
      "execution_count": null,
      "outputs": [
        {
          "output_type": "execute_result",
          "data": {
            "text/plain": [
              "inv-nodes\n",
              "0-2       213\n",
              "03-May     36\n",
              "06-Aug     17\n",
              "09-Nov     10\n",
              "15-17       6\n",
              "24-26       1\n",
              "Dec-14      3\n",
              "Name: Class, dtype: int64"
            ]
          },
          "metadata": {
            "tags": []
          },
          "execution_count": 10
        }
      ]
    },
    {
      "cell_type": "code",
      "metadata": {
        "id": "Z5uIAwASjXbj",
        "colab_type": "code",
        "colab": {
          "base_uri": "https://localhost:8080/",
          "height": 104
        },
        "outputId": "c47ddd44-9b3e-46fa-bb0e-d93875dc7274"
      },
      "source": [
        "# check column for errors in data\n",
        "node_caps_check = dataset.groupby(\"node-caps\")[\"Class\"].count()\n",
        "node_caps_check.head(20)\n",
        "# 8 lines of data are missing and have been formatted as '?'"
      ],
      "execution_count": null,
      "outputs": [
        {
          "output_type": "execute_result",
          "data": {
            "text/plain": [
              "node-caps\n",
              "?        8\n",
              "no     222\n",
              "yes     56\n",
              "Name: Class, dtype: int64"
            ]
          },
          "metadata": {
            "tags": []
          },
          "execution_count": 11
        }
      ]
    },
    {
      "cell_type": "code",
      "metadata": {
        "id": "KHvIV4GSjpj2",
        "colab_type": "code",
        "colab": {
          "base_uri": "https://localhost:8080/",
          "height": 104
        },
        "outputId": "6be2f641-0e3e-43a9-a7da-1f2f789c8324"
      },
      "source": [
        "# check column for errors in data\n",
        "deg_malig_check = dataset.groupby(\"deg-malig\")[\"Class\"].count()\n",
        "deg_malig_check.head(20)\n",
        "# there are no errors "
      ],
      "execution_count": null,
      "outputs": [
        {
          "output_type": "execute_result",
          "data": {
            "text/plain": [
              "deg-malig\n",
              "1     71\n",
              "2    130\n",
              "3     85\n",
              "Name: Class, dtype: int64"
            ]
          },
          "metadata": {
            "tags": []
          },
          "execution_count": 12
        }
      ]
    },
    {
      "cell_type": "code",
      "metadata": {
        "id": "vClIYnzfj3nq",
        "colab_type": "code",
        "colab": {
          "base_uri": "https://localhost:8080/",
          "height": 87
        },
        "outputId": "ea4e92c2-f0fa-4c91-ff6d-1f0cc70789a8"
      },
      "source": [
        "# check column for errors in data\n",
        "breast_check = dataset.groupby(\"breast\")[\"Class\"].count()\n",
        "breast_check.head(20)\n",
        "# there are no errors"
      ],
      "execution_count": null,
      "outputs": [
        {
          "output_type": "execute_result",
          "data": {
            "text/plain": [
              "breast\n",
              "left     152\n",
              "right    134\n",
              "Name: Class, dtype: int64"
            ]
          },
          "metadata": {
            "tags": []
          },
          "execution_count": 13
        }
      ]
    },
    {
      "cell_type": "code",
      "metadata": {
        "id": "p4rggis6kQ_X",
        "colab_type": "code",
        "colab": {
          "base_uri": "https://localhost:8080/",
          "height": 156
        },
        "outputId": "a567c5cb-cc2e-44b3-c900-7fde5f7eda0f"
      },
      "source": [
        "# check column for errors in data\n",
        "breast_quad_check = dataset.groupby(\"breast-quad\")[\"Class\"].count()\n",
        "breast_quad_check.head(20)\n",
        "# 1 line of data is missing and have been formatted as '?'"
      ],
      "execution_count": null,
      "outputs": [
        {
          "output_type": "execute_result",
          "data": {
            "text/plain": [
              "breast-quad\n",
              "?              1\n",
              "central       21\n",
              "left_low     110\n",
              "left_up       97\n",
              "right_low     24\n",
              "right_up      33\n",
              "Name: Class, dtype: int64"
            ]
          },
          "metadata": {
            "tags": []
          },
          "execution_count": 14
        }
      ]
    },
    {
      "cell_type": "code",
      "metadata": {
        "id": "gcKwUwftkxCs",
        "colab_type": "code",
        "colab": {
          "base_uri": "https://localhost:8080/",
          "height": 87
        },
        "outputId": "66240717-4f99-4327-b51d-d1aa501399a8"
      },
      "source": [
        "# check column for errors in data\n",
        "irradiat_check = dataset.groupby(\"irradiat\")[\"Class\"].count()\n",
        "irradiat_check.head(20)\n",
        "# there are no errors"
      ],
      "execution_count": null,
      "outputs": [
        {
          "output_type": "execute_result",
          "data": {
            "text/plain": [
              "irradiat\n",
              "no     218\n",
              "yes     68\n",
              "Name: Class, dtype: int64"
            ]
          },
          "metadata": {
            "tags": []
          },
          "execution_count": 15
        }
      ]
    },
    {
      "cell_type": "code",
      "metadata": {
        "id": "wcGkGtu1lDhb",
        "colab_type": "code",
        "colab": {
          "base_uri": "https://localhost:8080/",
          "height": 87
        },
        "outputId": "cf572184-8be7-43c1-8b73-b91a5cd4d9d2"
      },
      "source": [
        "# check column for errors in data\n",
        "Class_check = dataset.groupby(\"Class\")[\"Class\"].count()\n",
        "Class_check.head(20)\n",
        "# there are no errors"
      ],
      "execution_count": null,
      "outputs": [
        {
          "output_type": "execute_result",
          "data": {
            "text/plain": [
              "Class\n",
              "no-recurrence-events    201\n",
              "recurrence-events        85\n",
              "Name: Class, dtype: int64"
            ]
          },
          "metadata": {
            "tags": []
          },
          "execution_count": 16
        }
      ]
    },
    {
      "cell_type": "markdown",
      "metadata": {
        "id": "C4ngL91M7AWN",
        "colab_type": "text"
      },
      "source": [
        "Data cleaning"
      ]
    },
    {
      "cell_type": "code",
      "metadata": {
        "id": "ZOl4ki1e7RsN",
        "colab_type": "code",
        "colab": {}
      },
      "source": [
        "# data with formatting errors are re-coded with the numeric value of the month provided\n",
        "# without this assumption I would have to drop the errors - creating too small a sample\n",
        "dataset[\"tumor-size\"].replace({\"Oct-14\": \"10-14\", \"05-Sep\": \"5-9\"}, inplace=True)\n",
        "dataset[\"inv-nodes\"].replace({\"03-May\": \"3-5\", \"06-Aug\": \"6-8\", \"09-Nov\": \"9-11\", \"Dec-14\": \"12-14\"}, inplace=True)"
      ],
      "execution_count": null,
      "outputs": []
    },
    {
      "cell_type": "markdown",
      "metadata": {
        "id": "WFpBSws67Hca",
        "colab_type": "text"
      },
      "source": [
        "Remove missing data"
      ]
    },
    {
      "cell_type": "code",
      "metadata": {
        "id": "QoNJFJW97cHT",
        "colab_type": "code",
        "colab": {
          "base_uri": "https://localhost:8080/",
          "height": 69
        },
        "outputId": "2edd8199-daf9-4da9-e18d-0042d5230417"
      },
      "source": [
        "# drop data with a '?'\n",
        "dataset_2 = dataset[dataset['node-caps'] != '?']\n",
        "dataset_2 = dataset_2[dataset['breast-quad'] != '?']\n",
        "len(dataset_2)\n",
        "# total data has 277 subjects remaining (only 9 observations had to be removed)"
      ],
      "execution_count": null,
      "outputs": [
        {
          "output_type": "stream",
          "text": [
            "/usr/local/lib/python3.6/dist-packages/ipykernel_launcher.py:3: UserWarning: Boolean Series key will be reindexed to match DataFrame index.\n",
            "  This is separate from the ipykernel package so we can avoid doing imports until\n"
          ],
          "name": "stderr"
        },
        {
          "output_type": "execute_result",
          "data": {
            "text/plain": [
              "277"
            ]
          },
          "metadata": {
            "tags": []
          },
          "execution_count": 19
        }
      ]
    },
    {
      "cell_type": "markdown",
      "metadata": {
        "id": "dtwwoxsY6zG-",
        "colab_type": "text"
      },
      "source": [
        "Reformat all data to numeric"
      ]
    },
    {
      "cell_type": "code",
      "metadata": {
        "id": "y96eQuD372v3",
        "colab_type": "code",
        "colab": {}
      },
      "source": [
        "# the data needs to be numeric rather than strings for the logistic regression model to work\n",
        "dataset_2['age: 20-29'] = np.where(dataset_2['age']=='20-29', 1, 0)\n",
        "dataset_2['age: 30-39'] = np.where(dataset_2['age']=='30-39', 1, 0)\n",
        "dataset_2['age: 40-49'] = np.where(dataset_2['age']=='40-49', 1, 0)\n",
        "dataset_2['age: 50-59'] = np.where(dataset_2['age']=='50-59', 1, 0)\n",
        "dataset_2['age: 60-69'] = np.where(dataset_2['age']=='60-69', 1, 0)\n",
        "dataset_2['age: 70-79'] = np.where(dataset_2['age']=='70-79', 1, 0)\n",
        "\n",
        "dataset_2['menopause: premeno'] = np.where(dataset_2['menopause']=='premeno', 1, 0)\n",
        "dataset_2['menopause: ge40'] = np.where(dataset_2['menopause']=='ge40', 1, 0)\n",
        "dataset_2['menopause: lt40'] = np.where(dataset_2['menopause']=='lt40', 1, 0)\n",
        "\n",
        "dataset_2['tumor-size: 0-4'] = np.where(dataset_2['tumor-size']=='0-4', 1, 0)\n",
        "dataset_2['tumor-size: 5-9'] = np.where(dataset_2['tumor-size']=='5-9', 1, 0)\n",
        "dataset_2['tumor-size: 10-14'] = np.where(dataset_2['tumor-size']=='10-14', 1, 0)\n",
        "dataset_2['tumor-size: 15-19'] = np.where(dataset_2['tumor-size']=='15-19', 1, 0)\n",
        "dataset_2['tumor-size: 20-24'] = np.where(dataset_2['tumor-size']=='20-24', 1, 0)\n",
        "dataset_2['tumor-size: 25-29'] = np.where(dataset_2['tumor-size']=='25-29', 1, 0)\n",
        "dataset_2['tumor-size: 30-34'] = np.where(dataset_2['tumor-size']=='30-34', 1, 0)\n",
        "dataset_2['tumor-size: 35-39'] = np.where(dataset_2['tumor-size']=='35-39', 1, 0)\n",
        "dataset_2['tumor-size: 40-44'] = np.where(dataset_2['tumor-size']=='40-44', 1, 0)\n",
        "dataset_2['tumor-size: 45-49'] = np.where(dataset_2['tumor-size']=='45-49', 1, 0)\n",
        "dataset_2['tumor-size: 50-54'] = np.where(dataset_2['tumor-size']=='50-54', 1, 0)\n",
        "\n",
        "dataset_2['inv-nodes: 0-2'] = np.where(dataset_2['inv-nodes']=='0-2', 1, 0)\n",
        "dataset_2['inv-nodes: 3-5'] = np.where(dataset_2['inv-nodes']=='3-5', 1, 0)\n",
        "dataset_2['inv-nodes: 6-8'] = np.where(dataset_2['inv-nodes']=='6-8', 1, 0)\n",
        "dataset_2['inv-nodes: 9-11'] = np.where(dataset_2['inv-nodes']=='9-11', 1, 0)\n",
        "dataset_2['inv-nodes: 12-14'] = np.where(dataset_2['inv-nodes']=='12-14', 1, 0)\n",
        "dataset_2['inv-nodes: 15-17'] = np.where(dataset_2['inv-nodes']=='15-17', 1, 0)\n",
        "dataset_2['inv-nodes: 24-26'] = np.where(dataset_2['inv-nodes']=='24-26', 1, 0)\n",
        "\n",
        "dataset_2['node-caps: yes'] = np.where(dataset_2['node-caps']=='yes', 1, 0)\n",
        "dataset_2['node-caps: no'] = np.where(dataset_2['node-caps']=='no', 1, 0)\n",
        "\n",
        "dataset_2['breast: left'] = np.where(dataset_2['breast']=='left', 1, 0)\n",
        "dataset_2['breast: right'] = np.where(dataset_2['breast']=='right', 1, 0)\n",
        "\n",
        "dataset_2['breast-quad: central'] = np.where(dataset_2['breast-quad']=='central', 1, 0)\n",
        "dataset_2['breast-quad: left-low'] = np.where(dataset_2['breast-quad']=='left_low', 1, 0)\n",
        "dataset_2['breast-quad: left-up'] = np.where(dataset_2['breast-quad']=='left_up', 1, 0)\n",
        "dataset_2['breast-quad: right-low'] = np.where(dataset_2['breast-quad']=='right_low', 1, 0)\n",
        "dataset_2['breast-quad: right-up'] = np.where(dataset_2['breast-quad']=='right_up', 1, 0)\n",
        "\n",
        "dataset_2['irradiat: yes'] = np.where(dataset_2['irradiat']=='yes', 1, 0)\n",
        "dataset_2['irradiat: no'] = np.where(dataset_2['irradiat']=='no', 1, 0)\n",
        "\n",
        "dataset_2['status'] = np.where(dataset_2['Class']=='recurrence-events', 1, 0)"
      ],
      "execution_count": null,
      "outputs": []
    },
    {
      "cell_type": "markdown",
      "metadata": {
        "id": "23YI_x9h9oLH",
        "colab_type": "text"
      },
      "source": [
        "Drop non-numeric columns"
      ]
    },
    {
      "cell_type": "code",
      "metadata": {
        "id": "1yijCKVa9q0A",
        "colab_type": "code",
        "colab": {}
      },
      "source": [
        "dataset_3 = dataset_2.drop(['age', 'menopause', 'tumor-size', 'inv-nodes', 'node-caps', 'deg-malig', 'breast', 'breast-quad', 'irradiat', 'Class'], axis=1)"
      ],
      "execution_count": null,
      "outputs": []
    },
    {
      "cell_type": "markdown",
      "metadata": {
        "id": "YHg2iu2n95zQ",
        "colab_type": "text"
      },
      "source": [
        "Identify dependent and explanatory variables"
      ]
    },
    {
      "cell_type": "code",
      "metadata": {
        "id": "Ui8X-B-9-Bi5",
        "colab_type": "code",
        "colab": {}
      },
      "source": [
        "x = dataset_3.iloc[:, :-1].values\n",
        "y = dataset_3.iloc[:, -1].values"
      ],
      "execution_count": null,
      "outputs": []
    },
    {
      "cell_type": "code",
      "metadata": {
        "id": "qscrwDIgE9dU",
        "colab_type": "code",
        "colab": {}
      },
      "source": [
        "from sklearn.model_selection import train_test_split\n",
        "x_train, x_test, y_train, y_test = train_test_split(x, y, test_size = 1/3, random_state = 0)\n",
        "# the training dataset is 184 of the subjects, the test dataset has 93"
      ],
      "execution_count": null,
      "outputs": []
    },
    {
      "cell_type": "markdown",
      "metadata": {
        "id": "SulhdRdB-2-N",
        "colab_type": "text"
      },
      "source": [
        "Split data into training and test\n"
      ]
    },
    {
      "cell_type": "code",
      "metadata": {
        "id": "Yt_7dyU8-5Co",
        "colab_type": "code",
        "colab": {}
      },
      "source": [
        "from sklearn.model_selection import train_test_split\n",
        "x_train, x_test, y_train, y_test = train_test_split(x, y, test_size = 1/3, random_state = 0)\n",
        "# the training dataset is 184 of the subjects, the test dataset has 93"
      ],
      "execution_count": null,
      "outputs": []
    },
    {
      "cell_type": "markdown",
      "metadata": {
        "id": "kUOGUBHdAKMG",
        "colab_type": "text"
      },
      "source": [
        "Training using a logistic regression"
      ]
    },
    {
      "cell_type": "code",
      "metadata": {
        "id": "QVDTY-oMAK_L",
        "colab_type": "code",
        "colab": {
          "base_uri": "https://localhost:8080/",
          "height": 104
        },
        "outputId": "bd64b220-f09e-4ea0-9a83-26cf01d0169e"
      },
      "source": [
        "# A logistic regression is an appropriate model to use when the dependent variable is binary as it is here\n",
        "# 1 is a recurrance event, 0 is no recurrance event\n",
        "from sklearn.linear_model import LogisticRegression\n",
        "regressor = LogisticRegression()\n",
        "regressor.fit(x_train, y_train)"
      ],
      "execution_count": null,
      "outputs": [
        {
          "output_type": "execute_result",
          "data": {
            "text/plain": [
              "LogisticRegression(C=1.0, class_weight=None, dual=False, fit_intercept=True,\n",
              "                   intercept_scaling=1, l1_ratio=None, max_iter=100,\n",
              "                   multi_class='auto', n_jobs=None, penalty='l2',\n",
              "                   random_state=None, solver='lbfgs', tol=0.0001, verbose=0,\n",
              "                   warm_start=False)"
            ]
          },
          "metadata": {
            "tags": []
          },
          "execution_count": 25
        }
      ]
    },
    {
      "cell_type": "markdown",
      "metadata": {
        "id": "lpuJLthCAR-4",
        "colab_type": "text"
      },
      "source": [
        "Predict results on unseen data\n",
        "\n"
      ]
    },
    {
      "cell_type": "code",
      "metadata": {
        "id": "ZFTha3sZATZo",
        "colab_type": "code",
        "colab": {
          "base_uri": "https://localhost:8080/",
          "height": 1000
        },
        "outputId": "1da489ea-f7c8-4795-e45f-87825bee3eef"
      },
      "source": [
        "y_pred = regressor.predict(x_test)\n",
        "# print results\n",
        "print(np.concatenate((y_pred.reshape(len(y_pred),1), y_test.reshape(len(y_test),1)),1))"
      ],
      "execution_count": null,
      "outputs": [
        {
          "output_type": "stream",
          "text": [
            "[[0 0]\n",
            " [0 0]\n",
            " [0 0]\n",
            " [0 0]\n",
            " [0 1]\n",
            " [1 1]\n",
            " [0 0]\n",
            " [0 0]\n",
            " [0 0]\n",
            " [0 0]\n",
            " [0 0]\n",
            " [1 1]\n",
            " [0 0]\n",
            " [0 0]\n",
            " [0 0]\n",
            " [0 0]\n",
            " [0 0]\n",
            " [1 1]\n",
            " [0 0]\n",
            " [1 1]\n",
            " [0 0]\n",
            " [0 0]\n",
            " [0 0]\n",
            " [0 1]\n",
            " [1 0]\n",
            " [0 1]\n",
            " [0 0]\n",
            " [0 0]\n",
            " [1 1]\n",
            " [0 1]\n",
            " [0 1]\n",
            " [0 1]\n",
            " [0 0]\n",
            " [0 0]\n",
            " [0 0]\n",
            " [0 0]\n",
            " [0 1]\n",
            " [0 0]\n",
            " [0 0]\n",
            " [0 0]\n",
            " [1 1]\n",
            " [0 1]\n",
            " [0 0]\n",
            " [1 0]\n",
            " [1 0]\n",
            " [1 0]\n",
            " [0 0]\n",
            " [0 0]\n",
            " [0 0]\n",
            " [1 0]\n",
            " [0 1]\n",
            " [0 1]\n",
            " [1 0]\n",
            " [1 1]\n",
            " [0 0]\n",
            " [0 1]\n",
            " [0 0]\n",
            " [0 0]\n",
            " [0 1]\n",
            " [0 0]\n",
            " [0 0]\n",
            " [0 0]\n",
            " [0 0]\n",
            " [1 0]\n",
            " [0 0]\n",
            " [0 0]\n",
            " [0 0]\n",
            " [0 0]\n",
            " [1 0]\n",
            " [0 1]\n",
            " [0 1]\n",
            " [0 0]\n",
            " [0 0]\n",
            " [0 1]\n",
            " [0 0]\n",
            " [0 0]\n",
            " [0 0]\n",
            " [0 0]\n",
            " [0 0]\n",
            " [0 1]\n",
            " [0 0]\n",
            " [0 0]\n",
            " [0 0]\n",
            " [0 0]\n",
            " [0 0]\n",
            " [0 0]\n",
            " [0 0]\n",
            " [0 0]\n",
            " [1 0]\n",
            " [0 1]\n",
            " [1 1]\n",
            " [0 1]\n",
            " [0 0]]\n"
          ],
          "name": "stdout"
        }
      ]
    },
    {
      "cell_type": "markdown",
      "metadata": {
        "id": "yNadszcUAp_D",
        "colab_type": "text"
      },
      "source": [
        "# Model evaluation"
      ]
    },
    {
      "cell_type": "code",
      "metadata": {
        "id": "C92lJjKAJC2r",
        "colab_type": "code",
        "colab": {
          "base_uri": "https://localhost:8080/",
          "height": 69
        },
        "outputId": "8889e881-5dbe-4e4b-f0e9-ca793cc74135"
      },
      "source": [
        "# confusion matrix\n",
        "from sklearn.metrics import confusion_matrix, accuracy_score\n",
        "cm = confusion_matrix(y_test, y_pred)\n",
        "print(cm)\n",
        "accuracy_score(y_test, y_pred)\n",
        "# 58 predictions were correct where the model predicted the subject would not have a recurrance event (TRUE POSITIVE)\n",
        "# 18 predictions were wrong where the model predicted the subject would not have a recurrance event, but they actually did (FALSE POSITIVE)\n",
        "# 9 predictions were wrong where the model predicted the subject would have a recurrance event, but they actually did not (FALSE NEGATIVE)\n",
        "# 8 predictions were correct where the model predicted the subject would have a recurrance event (TRUE NEGATIVE)\n",
        "# 66 out of 93 predictions were correct, returning an accuracy score of 71%"
      ],
      "execution_count": null,
      "outputs": [
        {
          "output_type": "stream",
          "text": [
            "[[58  9]\n",
            " [18  8]]\n"
          ],
          "name": "stdout"
        },
        {
          "output_type": "execute_result",
          "data": {
            "text/plain": [
              "0.7096774193548387"
            ]
          },
          "metadata": {
            "tags": []
          },
          "execution_count": 27
        }
      ]
    },
    {
      "cell_type": "markdown",
      "metadata": {
        "id": "KyU8wB84yTjT",
        "colab_type": "text"
      },
      "source": [
        "Evaluation measure 1 - Accuarcy"
      ]
    },
    {
      "cell_type": "code",
      "metadata": {
        "id": "Uc39emmTyc8O",
        "colab_type": "code",
        "colab": {
          "base_uri": "https://localhost:8080/",
          "height": 35
        },
        "outputId": "c416227b-46b6-44d3-f25e-d9cbf3de8182"
      },
      "source": [
        "(66/93)*100\n",
        "# 66 out of 93 predictions were correct, returning an accuracy score of 71%"
      ],
      "execution_count": null,
      "outputs": [
        {
          "output_type": "execute_result",
          "data": {
            "text/plain": [
              "70.96774193548387"
            ]
          },
          "metadata": {
            "tags": []
          },
          "execution_count": 33
        }
      ]
    },
    {
      "cell_type": "markdown",
      "metadata": {
        "id": "ARAkHLpry0G-",
        "colab_type": "text"
      },
      "source": [
        "Evaluation measure 2 - Precision"
      ]
    },
    {
      "cell_type": "code",
      "metadata": {
        "id": "o-d-H-Cqy5jC",
        "colab_type": "code",
        "colab": {
          "base_uri": "https://localhost:8080/",
          "height": 35
        },
        "outputId": "c6d8ab53-3f5a-45b2-e407-4cbb0c303a7c"
      },
      "source": [
        "(58/(58+18))*100\n",
        "# precision asks how often the model is correct when it predicts a recurrance of cancer, in this case 76% of the time"
      ],
      "execution_count": null,
      "outputs": [
        {
          "output_type": "execute_result",
          "data": {
            "text/plain": [
              "76.31578947368422"
            ]
          },
          "metadata": {
            "tags": []
          },
          "execution_count": 35
        }
      ]
    },
    {
      "cell_type": "markdown",
      "metadata": {
        "id": "sw7_Ghmt04Qv",
        "colab_type": "text"
      },
      "source": [
        "Evaluation measure 3 - Recall"
      ]
    },
    {
      "cell_type": "code",
      "metadata": {
        "id": "1nWYzTDd03Sh",
        "colab_type": "code",
        "colab": {
          "base_uri": "https://localhost:8080/",
          "height": 35
        },
        "outputId": "490d9e99-ba00-47eb-b211-85332dee5ff1"
      },
      "source": [
        "(58/(58+8))*100\n",
        "# recall asks what proportion of the cancer events are correctly predicted by the model, in this case 87% "
      ],
      "execution_count": null,
      "outputs": [
        {
          "output_type": "execute_result",
          "data": {
            "text/plain": [
              "87.87878787878788"
            ]
          },
          "metadata": {
            "tags": []
          },
          "execution_count": 36
        }
      ]
    },
    {
      "cell_type": "markdown",
      "metadata": {
        "id": "ykoFlgSZ3Yhq",
        "colab_type": "text"
      },
      "source": [
        "Evaluation measure 4 - Specificity"
      ]
    },
    {
      "cell_type": "code",
      "metadata": {
        "id": "mtHnTxpQ3enC",
        "colab_type": "code",
        "colab": {
          "base_uri": "https://localhost:8080/",
          "height": 35
        },
        "outputId": "95910e4f-9514-4e37-e9b5-39bb182cc721"
      },
      "source": [
        "(8/(8+18))*100\n",
        "# specificity is similar to recall but here the focus is on the correct predicttion of non-recurrance of the cancer\n",
        "# the proportion of non-cancer events being correctly predicted by the model is much lower, at 31% and pulls down the average"
      ],
      "execution_count": null,
      "outputs": [
        {
          "output_type": "execute_result",
          "data": {
            "text/plain": [
              "30.76923076923077"
            ]
          },
          "metadata": {
            "tags": []
          },
          "execution_count": 37
        }
      ]
    },
    {
      "cell_type": "markdown",
      "metadata": {
        "id": "2yigIc_6r144",
        "colab_type": "text"
      },
      "source": [
        "k-Fold Cross Validation"
      ]
    },
    {
      "cell_type": "code",
      "metadata": {
        "id": "AywgBItwsN81",
        "colab_type": "code",
        "colab": {
          "base_uri": "https://localhost:8080/",
          "height": 52
        },
        "outputId": "d78fb9fd-acc5-4754-d80e-b0ae2facc3c8"
      },
      "source": [
        "from sklearn.model_selection import cross_val_score\n",
        "how_accurate = cross_val_score(estimator = regressor, X = x_train, y = y_train, cv = 10)\n",
        "print(\"Accuracy: {:.2f} %\".format(how_accurate.mean()*100))\n",
        "print(\"Standard Deviation: {:.2f} %\".format(how_accurate.std()*100))\n",
        "# A better accuracy score is provided below by training the model in 10 folds. \n",
        "# The group average is actually higher than what I evaluated using the confusion matrix, at 74%\n",
        "# With a standard deviation of 5% the model gives a confidence of predicting breastcancer of between 69% to 80%"
      ],
      "execution_count": null,
      "outputs": [
        {
          "output_type": "stream",
          "text": [
            "Accuracy: 74.42 %\n",
            "Standard Deviation: 5.13 %\n"
          ],
          "name": "stdout"
        }
      ]
    }
  ]
}